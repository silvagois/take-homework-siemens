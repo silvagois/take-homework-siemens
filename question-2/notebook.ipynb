{
 "cells": [
  {
   "cell_type": "markdown",
   "metadata": {},
   "source": [
    "### Question 2 (code required):\n",
    "Write a small application to print out the IDs of the 2 users who logged in at the closest time to each other, along with the times of login.\n",
    "\n",
    "Again, we are not looking for the most optimal code, but a variety of plausible approaches."
   ]
  },
  {
   "cell_type": "code",
   "execution_count": 2,
   "metadata": {},
   "outputs": [
    {
     "name": "stdout",
     "output_type": "stream",
     "text": [
      "Closest pair IDs: 3de76a79-3148-409c-93e3-a1ffe6541a33 0cdb3449-281d-4dc8-9b4e-7b897750097b\n",
      "Login times: 2025-01-01 07:19:00 2025-01-01 07:28:24\n"
     ]
    }
   ],
   "source": [
    "import json\n",
    "from datetime import datetime\n",
    "\n",
    "class Question2:\n",
    "    def __init__(self, records, cutoff_date):\n",
    "        \"\"\"\n",
    "        Initializes the class with the records and sets the cutoff date for filtering.\n",
    "\n",
    "        Args:\n",
    "            records (list): List of dictionaries containing IDs and last login dates.\n",
    "            cutoff_date (str): Cutoff date in ISO8601 format (\"%Y-%m-%dT%H:%M:%S%z\").\n",
    "        \"\"\"\n",
    "        self.records = records\n",
    "        self.cutoff_datetime = datetime.strptime(cutoff_date, \"%Y-%m-%dT%H:%M:%S%z\").replace(tzinfo=None)\n",
    "        self.filtered_records = self._filter_records()\n",
    "    \n",
    "    def _filter_records(self):\n",
    "        \"\"\"\n",
    "        - Filters the records to include only those whose last login occurred before the deadline.\n",
    "\n",
    "        Returns:\n",
    "            list: List of dictionaries containing 'id' and 'last_login' of the filtered users.\n",
    "        \"\"\"\n",
    "        return [\n",
    "            {\"id\": r[\"id\"], \"last_login\": datetime.strptime(r[\"last_login\"], \"%Y-%m-%dT%H:%M:%SZ\")}\n",
    "            for r in self.records if datetime.strptime(r[\"last_login\"], \"%Y-%m-%dT%H:%M:%SZ\") < self.cutoff_datetime\n",
    "        ]    \n",
    "    \n",
    "    def get_closest_pair(self):\n",
    "        \"\"\"\n",
    "        Finds the pair of logins closest in time within the filtered records.\n",
    "\n",
    "        Returns:\n",
    "            tuple: Tuple containing two dictionaries representing the users with the closest logins.\n",
    "        \"\"\"\n",
    "        if len(self.filtered_records) < 2:\n",
    "            return None\n",
    "        \n",
    "        sorted_records = sorted(self.filtered_records, key=lambda x: x[\"last_login\"])\n",
    "        min_diff = float(\"inf\")\n",
    "        closest_pair = None\n",
    "        \n",
    "        for i in range(len(sorted_records) - 1):\n",
    "            diff = (sorted_records[i + 1][\"last_login\"] - sorted_records[i][\"last_login\"]).total_seconds()\n",
    "            if diff < min_diff:\n",
    "                min_diff = diff\n",
    "                closest_pair = (sorted_records[i], sorted_records[i + 1])\n",
    "        \n",
    "        return closest_pair\n",
    "\n",
    "def load_json(filename):\n",
    "    \"\"\"\n",
    "    Loads a JSON file and returns its contents.\n",
    "\n",
    "    Args:\n",
    "        filename (str): Name of the JSON file.\n",
    "\n",
    "    Returns:\n",
    "        list: List of records loaded from the JSON.\n",
    "    \"\"\"\n",
    "    with open(filename, \"r\", encoding=\"utf-8\") as file:\n",
    "        return json.load(file)\n",
    "\n",
    "if __name__ == \"__main__\":\n",
    "    records = load_json(\"../records.json\")\n",
    "    cutoff_date = \"2025-02-01T00:00:00+0000\"  # Data limite UTC \n",
    "    filter_obj = Question2(records, cutoff_date)\n",
    "    \n",
    "    closest_pair = filter_obj.get_closest_pair()\n",
    "    if closest_pair:\n",
    "        print(\"Closest pair IDs:\", closest_pair[0][\"id\"], closest_pair[1][\"id\"])\n",
    "        print(\"Login times:\", closest_pair[0][\"last_login\"], closest_pair[1][\"last_login\"])"
   ]
  }
 ],
 "metadata": {
  "kernelspec": {
   "display_name": "Python 3",
   "language": "python",
   "name": "python3"
  },
  "language_info": {
   "codemirror_mode": {
    "name": "ipython",
    "version": 3
   },
   "file_extension": ".py",
   "mimetype": "text/x-python",
   "name": "python",
   "nbconvert_exporter": "python",
   "pygments_lexer": "ipython3",
   "version": "3.10.12"
  }
 },
 "nbformat": 4,
 "nbformat_minor": 2
}
